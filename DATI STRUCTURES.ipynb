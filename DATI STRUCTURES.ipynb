{
 "cells": [
  {
   "cell_type": "markdown",
   "id": "3a9f696f",
   "metadata": {},
   "source": [
    "# DATA STRUCTURES"
   ]
  },
  {
   "cell_type": "markdown",
   "id": "5a53489f",
   "metadata": {},
   "source": [
    "* **DATI NUMERICI**\n",
    "* **STRINGHE**\n",
    "* **LISTE**\n",
    "* **TUPLES**\n",
    "* **Indovina il numero**\n",
    "* **Dizionari**\n",
    "* **Rubrica telefonica**\n",
    "* **Temperatura**\n",
    "* **Tuble**\n",
    "* **Coordinate**\n",
    "* **Informazioni su una pesona**\n",
    "\n"
   ]
  },
  {
   "cell_type": "markdown",
   "id": "7816fffb",
   "metadata": {},
   "source": [
    "Python determina automaticamente il tipo di una variabile in base al valore assegnato, a differenza di altri linguaggi in cui è necessario dichiarare il tipo in anticipo. Inoltre, Python è un linguaggio interpretato, quindi i comandi vengono eseguiti sequenzialmente senza bisogno di compilazione preventiva."
   ]
  },
  {
   "cell_type": "markdown",
   "id": "46c58734",
   "metadata": {},
   "source": [
    "## DATI NUMERICI"
   ]
  },
  {
   "cell_type": "markdown",
   "id": "04da1e2c",
   "metadata": {},
   "source": [
    "Dati numerici si usano per fare operazionioni matematiche. Sul questo codice, vengono usati 3 tipi di dati numerici. Numeri interi, numeri float e numeri complessi. Numero interi sono i numeri senza parte frazionaria, numeri float sono numeri con parte frazionaria, rappresentati con virgola, numeri complessi sono i valori numerici che comprendono una parte reale e una parte immaginaria."
   ]
  },
  {
   "cell_type": "code",
   "execution_count": 11,
   "id": "270c833e",
   "metadata": {},
   "outputs": [
    {
     "name": "stdout",
     "output_type": "stream",
     "text": [
      "Somma: 128\n",
      "Prodotto: (336+168j)\n"
     ]
    }
   ],
   "source": [
    "a = 44  # Numero intero\n",
    "b = 84  # Numero float\n",
    "c = 4 + 2j # Numeri complessi\n",
    "\n",
    "# I calcoli\n",
    "somma = a + b # Calcola la somma\n",
    "prodotto = b * c #Calcola prodotto\n",
    "\n",
    "# I risultati\n",
    "print(\"Somma:\", somma) #Stampa la somma\n",
    "print(\"Prodotto:\", prodotto) #Stampa il prodotto\n"
   ]
  },
  {
   "cell_type": "markdown",
   "id": "faaefefb",
   "metadata": {},
   "source": [
    "## STRINGHE"
   ]
  },
  {
   "cell_type": "markdown",
   "id": "e6473dbe-cdb4-4527-ad1b-5ae4f44133d7",
   "metadata": {},
   "source": [
    "Una stringa è una sequenza di caratteri, immutabile, che possono includere lettere, numeri, simboli e spazi, trattati come un singolo oggetto di dati all'interno di un programma. Sul questo codice definiamo la stringa che si stampa \"Ciao, Mondo!\". Definiamo la lunghezza e dopo otenniamo la sottostringa. Concateniamo le due stringhe."
   ]
  },
  {
   "cell_type": "code",
   "execution_count": 17,
   "id": "461d36fd-a6f2-4852-993b-7b8a3f56c6e3",
   "metadata": {},
   "outputs": [
    {
     "name": "stdout",
     "output_type": "stream",
     "text": [
      "Ciao, Mondo!\n",
      "Lunghezza della stringa: 12\n",
      "Sottostringa: Ciao,\n",
      "Nuova stringa: Ciao, Mondo! Come stai?\n"
     ]
    }
   ],
   "source": [
    "stringa = \"Ciao, Mondo!\" # Definisce una stringa\n",
    "\n",
    "print(stringa) # Stampa la stringa\n",
    "\n",
    "# Si definisce la lunghezza della stringa e dopo si stampa\n",
    "lunghezza = len(stringa)\n",
    "print(\"Lunghezza della stringa:\", lunghezza)\n",
    "\n",
    "# Si serve per otennere una sottostringa\n",
    "sottostringa = stringa[0:5]\n",
    "print(\"Sottostringa:\", sottostringa)\n",
    "\n",
    "# Si serve per concatenare due stringhe\n",
    "nuova_stringa = stringa + \" Come stai?\"\n",
    "print(\"Nuova stringa:\", nuova_stringa)"
   ]
  },
  {
   "cell_type": "markdown",
   "id": "be89e2c1",
   "metadata": {},
   "source": [
    "## LISTE "
   ]
  },
  {
   "cell_type": "markdown",
   "id": "acfd0793-09cd-4b64-93d4-64aae72646f3",
   "metadata": {},
   "source": [
    "Una lista è una sequenza mutabile di oggetti in Python, definita tra parentesi quadre [], che consente l'inserimento, la rimozione e la modifica degli elementi. Su questo codice lo creariamo la lista dei numeri dove lo modifichiamo i numeri o aggiugiamo altri. "
   ]
  },
  {
   "cell_type": "code",
   "execution_count": 23,
   "id": "57308277-a16a-4cb5-8e41-6db8555eb148",
   "metadata": {},
   "outputs": [
    {
     "name": "stdout",
     "output_type": "stream",
     "text": [
      "Lista dei numeri: [1, 2, 3, 4, 5]\n",
      "Primo numero: 1\n",
      "Terzo numero: 3\n",
      "Numeri modificati: [10, 2, 3, 4, 5]\n",
      "Numeri aggiunti: [10, 2, 3, 4, 5, 6]\n"
     ]
    }
   ],
   "source": [
    "numeri = [1, 2, 3, 4, 5] # Lista dei numeri\n",
    "\n",
    "print(\"Lista dei numeri:\", numeri) # Stampa lista dei numeri\n",
    "\n",
    "print(\"Primo numero:\", numeri[0]) # Stampa primo numero della lista\n",
    "print(\"Terzo numero:\", numeri[2]) # Stampa terzo numero della lista\n",
    "\n",
    "numeri[0] = 10 # Modifica di primo numero\n",
    "print(\"Numeri modificati:\", numeri) # Stampa i numeri modificati\n",
    "\n",
    "numeri.append(6) # Aggiunge numero 6 nella fine\n",
    "print(\"Numeri aggiunti:\", numeri) # Stampa numeri aggiunti."
   ]
  },
  {
   "cell_type": "markdown",
   "id": "06ec9941",
   "metadata": {},
   "source": [
    "## TUPLES\n"
   ]
  },
  {
   "cell_type": "markdown",
   "id": "2d4c495d-7177-40cb-a741-b36c1ef1b7ce",
   "metadata": {},
   "source": [
    "Una tupla è una struttura dati immutabile in Python, definita tra parentesi tonde (), simile alle liste ma con la caratteristica fondamentale che una volta creata, non può essere modificata. Questo significa che non è possibile aggiungere, rimuovere o modificare elementi all'interno di una tupla dopo la sua creazione."
   ]
  },
  {
   "cell_type": "code",
   "execution_count": 3,
   "id": "18c420cb-56c8-43ba-aa0c-559df1b87a23",
   "metadata": {},
   "outputs": [
    {
     "name": "stdout",
     "output_type": "stream",
     "text": [
      "I valori: (1, 2, 3, 4, 5)\n",
      "Primo numero della tupla: 1\n",
      "Terzo numero della tupla: 3\n"
     ]
    }
   ],
   "source": [
    "tupla = (1, 2, 3, 4, 5) # Definizione dei valori\n",
    "\n",
    "print(\"I valori:\", tupla) # Stampa dei valori\n",
    "\n",
    "print(\"Primo numero della tupla:\", tupla[0])  # Accede al primo numero\n",
    "print(\"Terzo numero della tupla:\", tupla[2])  # Accede al terzo numero\n"
   ]
  }
 ],
 "metadata": {
  "kernelspec": {
   "display_name": "Python 3 (ipykernel)",
   "language": "python",
   "name": "python3"
  },
  "language_info": {
   "codemirror_mode": {
    "name": "ipython",
    "version": 3
   },
   "file_extension": ".py",
   "mimetype": "text/x-python",
   "name": "python",
   "nbconvert_exporter": "python",
   "pygments_lexer": "ipython3",
   "version": "3.11.0"
  }
 },
 "nbformat": 4,
 "nbformat_minor": 5
}
